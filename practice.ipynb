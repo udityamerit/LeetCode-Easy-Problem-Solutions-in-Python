{
 "cells": [
  {
   "cell_type": "code",
   "execution_count": null,
   "id": "c6214b96",
   "metadata": {},
   "outputs": [
    {
     "name": "stdout",
     "output_type": "stream",
     "text": [
      "[6, 4, 3, 2]\n",
      "[2, 6, 4, 3]\n",
      "[3, 2, 6, 4]\n",
      "[4, 3, 2, 6]\n"
     ]
    }
   ],
   "source": [
    "# question no 396\n",
    "\n",
    "nums = [4,3,2,6]\n",
    "n = []\n",
    "def rev(arr, n):\n",
    "        arr.insert(0, arr[len(arr)-1])\n",
    "        arr.pop()\n",
    "        n = arr\n",
    "        return n\n",
    "        \n",
    "\n",
    "for i in range(len(nums)):\n",
    "        print(rev(nums, n))"
   ]
  }
 ],
 "metadata": {
  "kernelspec": {
   "display_name": "Python 3",
   "language": "python",
   "name": "python3"
  },
  "language_info": {
   "codemirror_mode": {
    "name": "ipython",
    "version": 3
   },
   "file_extension": ".py",
   "mimetype": "text/x-python",
   "name": "python",
   "nbconvert_exporter": "python",
   "pygments_lexer": "ipython3",
   "version": "3.12.8"
  }
 },
 "nbformat": 4,
 "nbformat_minor": 5
}
