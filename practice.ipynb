{
 "cells": [
  {
   "cell_type": "code",
   "execution_count": null,
   "id": "c6214b96",
   "metadata": {},
   "outputs": [
    {
     "name": "stdout",
     "output_type": "stream",
     "text": [
      "[6, 4, 3, 2]\n",
      "[2, 6, 4, 3]\n",
      "[3, 2, 6, 4]\n",
      "[4, 3, 2, 6]\n"
     ]
    }
   ],
   "source": [
    "# question no 396\n",
    "\n",
    "nums = [4,3,2,6]\n",
    "n = []\n",
    "def rev(arr, n):\n",
    "        arr.insert(0, arr[len(arr)-1])\n",
    "        arr.pop()\n",
    "        n = arr\n",
    "        return n\n",
    "        \n",
    "\n",
    "for i in range(len(nums)):\n",
    "        print(rev(nums, n))"
   ]
  },
  {
   "cell_type": "code",
   "execution_count": 1,
   "id": "a11e6415",
   "metadata": {},
   "outputs": [
    {
     "name": "stdout",
     "output_type": "stream",
     "text": [
      "number is odd\n"
     ]
    }
   ],
   "source": [
    "def evenodd(x):\n",
    "        if x%2==0:\n",
    "                print(\"number is even\")\n",
    "        else:\n",
    "                print(\"number is odd\")\n",
    "\n",
    "evenodd(23)"
   ]
  },
  {
   "cell_type": "code",
   "execution_count": 5,
   "id": "2f80cd5c",
   "metadata": {},
   "outputs": [
    {
     "name": "stdout",
     "output_type": "stream",
     "text": [
      "4\n"
     ]
    }
   ],
   "source": [
    "def fib(x):\n",
    "        if x==1 or x==0:\n",
    "                return 1\n",
    "        else:\n",
    "                return fib(x-1)+(x-2)\n",
    "        \n",
    "print(fib(4))"
   ]
  },
  {
   "cell_type": "code",
   "execution_count": 6,
   "id": "a1a4239a",
   "metadata": {},
   "outputs": [
    {
     "name": "stdout",
     "output_type": "stream",
     "text": [
      "[0, 1, 1, 2, 3, 5, 8, 13, 21, 34]\n"
     ]
    }
   ],
   "source": [
    "def fibonacci_recursive(n):\n",
    "        if n <= 1:\n",
    "                return n\n",
    "        else:\n",
    "                return fibonacci_recursive(n-1) + fibonacci_recursive(n-2)\n",
    "\n",
    "# Print first 10 Fibonacci numbers\n",
    "print([fibonacci_recursive(i) for i in range(10)])\n"
   ]
  }
 ],
 "metadata": {
  "kernelspec": {
   "display_name": "Python 3",
   "language": "python",
   "name": "python3"
  },
  "language_info": {
   "codemirror_mode": {
    "name": "ipython",
    "version": 3
   },
   "file_extension": ".py",
   "mimetype": "text/x-python",
   "name": "python",
   "nbconvert_exporter": "python",
   "pygments_lexer": "ipython3",
   "version": "3.12.8"
  }
 },
 "nbformat": 4,
 "nbformat_minor": 5
}
